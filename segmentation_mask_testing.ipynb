{
 "cells": [
  {
   "cell_type": "code",
   "execution_count": 13,
   "id": "dbfc562c",
   "metadata": {},
   "outputs": [
    {
     "data": {
      "application/vnd.microsoft.datawrangler.viewer.v0+json": {
       "columns": [
        {
         "name": "index",
         "rawType": "int64",
         "type": "integer"
        },
        {
         "name": "FileName",
         "rawType": "object",
         "type": "string"
        },
        {
         "name": "Frame",
         "rawType": "int64",
         "type": "integer"
        },
        {
         "name": "PixelCount",
         "rawType": "int64",
         "type": "integer"
        },
        {
         "name": "OriginalPixelCount",
         "rawType": "int64",
         "type": "integer"
        },
        {
         "name": "PixelIncrease",
         "rawType": "int64",
         "type": "integer"
        },
        {
         "name": "PercentIncrease",
         "rawType": "float64",
         "type": "float"
        },
        {
         "name": "CorrectionMethod",
         "rawType": "object",
         "type": "string"
        },
        {
         "name": "KernelSize",
         "rawType": "int64",
         "type": "integer"
        },
        {
         "name": "Iterations",
         "rawType": "int64",
         "type": "integer"
        }
       ],
       "ref": "9ee000d6-3941-46ca-a38c-568101338aa5",
       "rows": [
        [
         "0",
         "0X100009310A3BD7FC.avi",
         "46",
         "1744",
         "1348",
         "396",
         "29.376854599406528",
         "morphological_dilation",
         "3",
         "2"
        ],
        [
         "1",
         "0X100009310A3BD7FC.avi",
         "61",
         "854",
         "543",
         "311",
         "57.2744014732965",
         "morphological_dilation",
         "3",
         "2"
        ],
        [
         "2",
         "0X1002E8FBACD08477.avi",
         "3",
         "1593",
         "1225",
         "368",
         "30.04081632653061",
         "morphological_dilation",
         "3",
         "2"
        ],
        [
         "3",
         "0X1002E8FBACD08477.avi",
         "18",
         "960",
         "680",
         "280",
         "41.17647058823529",
         "morphological_dilation",
         "3",
         "2"
        ],
        [
         "4",
         "0X1005D03EED19C65B.avi",
         "24",
         "1166",
         "842",
         "324",
         "38.47980997624703",
         "morphological_dilation",
         "3",
         "2"
        ]
       ],
       "shape": {
        "columns": 9,
        "rows": 5
       }
      },
      "text/html": [
       "<div>\n",
       "<style scoped>\n",
       "    .dataframe tbody tr th:only-of-type {\n",
       "        vertical-align: middle;\n",
       "    }\n",
       "\n",
       "    .dataframe tbody tr th {\n",
       "        vertical-align: top;\n",
       "    }\n",
       "\n",
       "    .dataframe thead th {\n",
       "        text-align: right;\n",
       "    }\n",
       "</style>\n",
       "<table border=\"1\" class=\"dataframe\">\n",
       "  <thead>\n",
       "    <tr style=\"text-align: right;\">\n",
       "      <th></th>\n",
       "      <th>FileName</th>\n",
       "      <th>Frame</th>\n",
       "      <th>PixelCount</th>\n",
       "      <th>OriginalPixelCount</th>\n",
       "      <th>PixelIncrease</th>\n",
       "      <th>PercentIncrease</th>\n",
       "      <th>CorrectionMethod</th>\n",
       "      <th>KernelSize</th>\n",
       "      <th>Iterations</th>\n",
       "    </tr>\n",
       "  </thead>\n",
       "  <tbody>\n",
       "    <tr>\n",
       "      <th>0</th>\n",
       "      <td>0X100009310A3BD7FC.avi</td>\n",
       "      <td>46</td>\n",
       "      <td>1744</td>\n",
       "      <td>1348</td>\n",
       "      <td>396</td>\n",
       "      <td>29.376855</td>\n",
       "      <td>morphological_dilation</td>\n",
       "      <td>3</td>\n",
       "      <td>2</td>\n",
       "    </tr>\n",
       "    <tr>\n",
       "      <th>1</th>\n",
       "      <td>0X100009310A3BD7FC.avi</td>\n",
       "      <td>61</td>\n",
       "      <td>854</td>\n",
       "      <td>543</td>\n",
       "      <td>311</td>\n",
       "      <td>57.274401</td>\n",
       "      <td>morphological_dilation</td>\n",
       "      <td>3</td>\n",
       "      <td>2</td>\n",
       "    </tr>\n",
       "    <tr>\n",
       "      <th>2</th>\n",
       "      <td>0X1002E8FBACD08477.avi</td>\n",
       "      <td>3</td>\n",
       "      <td>1593</td>\n",
       "      <td>1225</td>\n",
       "      <td>368</td>\n",
       "      <td>30.040816</td>\n",
       "      <td>morphological_dilation</td>\n",
       "      <td>3</td>\n",
       "      <td>2</td>\n",
       "    </tr>\n",
       "    <tr>\n",
       "      <th>3</th>\n",
       "      <td>0X1002E8FBACD08477.avi</td>\n",
       "      <td>18</td>\n",
       "      <td>960</td>\n",
       "      <td>680</td>\n",
       "      <td>280</td>\n",
       "      <td>41.176471</td>\n",
       "      <td>morphological_dilation</td>\n",
       "      <td>3</td>\n",
       "      <td>2</td>\n",
       "    </tr>\n",
       "    <tr>\n",
       "      <th>4</th>\n",
       "      <td>0X1005D03EED19C65B.avi</td>\n",
       "      <td>24</td>\n",
       "      <td>1166</td>\n",
       "      <td>842</td>\n",
       "      <td>324</td>\n",
       "      <td>38.479810</td>\n",
       "      <td>morphological_dilation</td>\n",
       "      <td>3</td>\n",
       "      <td>2</td>\n",
       "    </tr>\n",
       "  </tbody>\n",
       "</table>\n",
       "</div>"
      ],
      "text/plain": [
       "                 FileName  Frame  PixelCount  OriginalPixelCount  \\\n",
       "0  0X100009310A3BD7FC.avi     46        1744                1348   \n",
       "1  0X100009310A3BD7FC.avi     61         854                 543   \n",
       "2  0X1002E8FBACD08477.avi      3        1593                1225   \n",
       "3  0X1002E8FBACD08477.avi     18         960                 680   \n",
       "4  0X1005D03EED19C65B.avi     24        1166                 842   \n",
       "\n",
       "   PixelIncrease  PercentIncrease        CorrectionMethod  KernelSize  \\\n",
       "0            396        29.376855  morphological_dilation           3   \n",
       "1            311        57.274401  morphological_dilation           3   \n",
       "2            368        30.040816  morphological_dilation           3   \n",
       "3            280        41.176471  morphological_dilation           3   \n",
       "4            324        38.479810  morphological_dilation           3   \n",
       "\n",
       "   Iterations  \n",
       "0           2  \n",
       "1           2  \n",
       "2           2  \n",
       "3           2  \n",
       "4           2  "
      ]
     },
     "execution_count": 13,
     "metadata": {},
     "output_type": "execute_result"
    }
   ],
   "source": [
    "'''this notebook is for cleaning the corrected pixel count csv'''\n",
    "import pandas as pd \n",
    "\n",
    "df = pd.read_csv(\"pixel_count_corrected.csv\") #this one has the pixel values of the masks when corrected using AI via linear correction\n",
    "df.head()"
   ]
  },
  {
   "cell_type": "code",
   "execution_count": 14,
   "id": "b44bde58",
   "metadata": {},
   "outputs": [
    {
     "name": "stdout",
     "output_type": "stream",
     "text": [
      "Found 10025 unique videos\n",
      "\n",
      "Sample results:\n",
      "                 FileName  ESV_corrected  ESC_corrected_frame  EDV_corrected  \\\n",
      "0  0X100009310A3BD7FC.avi            854                   61           1744   \n",
      "1  0X1002E8FBACD08477.avi            960                   18           1593   \n",
      "2  0X1005D03EED19C65B.avi            728                   35           1166   \n",
      "3  0X10075961BC11C88E.avi            997                  108           1445   \n",
      "4  0X10094BA0A028EAC3.avi           2077                  156           2514   \n",
      "5  0X100CF05D141FF143.avi           1117                  148           1719   \n",
      "6  0X100E3B8D3280BEC5.avi           1273                   38           1657   \n",
      "7  0X100E491B3CD58DE2.avi           1403                   75           1739   \n",
      "8  0X100F044876B98F90.avi            972                   72           1622   \n",
      "9  0X101026B90DAE7E95.avi           1589                   62           2180   \n",
      "\n",
      "   EDV_corrected_frame  PixelDifference  TotalFrames  \n",
      "0                   46              890            2  \n",
      "1                    3              633            2  \n",
      "2                   24              438            2  \n",
      "3                   91              448            2  \n",
      "4                  137              437            2  \n",
      "5                  132              602            2  \n",
      "6                   25              384            2  \n",
      "7                   49              336            2  \n",
      "8                   56              650            2  \n",
      "9                   45              591            2  \n",
      "\n",
      " Results saved to 'pixel_values_corrected.csv'\n",
      "\n",
      "Statistics:\n",
      "Average pixel difference: 640.6\n",
      "Average frames per video: 2.0\n",
      "Min pixel count range: 426 - 4931\n",
      "Max pixel count range: 623 - 6895\n"
     ]
    }
   ],
   "source": [
    "#group rows by filename \n",
    "import pandas as pd\n",
    "\n",
    "df = pd.read_csv(\"pixel_count_corrected.csv\")\n",
    "\n",
    "# Group by FileName and find min/max pixel counts with corresponding frames\n",
    "grouped_results = []\n",
    "\n",
    "for filename, group in df.groupby('FileName'):\n",
    "    # Find indices of min and max pixel counts\n",
    "    min_idx = group['PixelCount'].idxmin()\n",
    "    max_idx = group['PixelCount'].idxmax()\n",
    "    \n",
    "    # Get the corresponding rows\n",
    "    min_row = group.loc[min_idx]\n",
    "    max_row = group.loc[max_idx]\n",
    "    \n",
    "    # Create summary record\n",
    "    result = {\n",
    "        'FileName': filename,\n",
    "        'ESV_corrected': min_row['PixelCount'],\n",
    "        'ESC_corrected_frame': min_row['Frame'],\n",
    "        'EDV_corrected': max_row['PixelCount'],\n",
    "        'EDV_corrected_frame': max_row['Frame'],\n",
    "        'PixelDifference': max_row['PixelCount'] - min_row['PixelCount'],\n",
    "        'TotalFrames': len(group)\n",
    "    }\n",
    "    \n",
    "    grouped_results.append(result)\n",
    "\n",
    "# Convert to DataFrame\n",
    "result_df = pd.DataFrame(grouped_results)\n",
    "\n",
    "# Display results\n",
    "print(f\"Found {len(result_df)} unique videos\")\n",
    "print(\"\\nSample results:\")\n",
    "print(result_df.head(10))\n",
    "\n",
    "# Save results\n",
    "result_df.to_csv(\"pixel_values_corrected.csv\", index=False)\n",
    "print(f\"\\n Results saved to 'pixel_values_corrected.csv'\")\n",
    "\n",
    "# Show some statistics\n",
    "print(f\"\\nStatistics:\")\n",
    "print(f\"Average pixel difference: {result_df['PixelDifference'].mean():.1f}\")\n",
    "print(f\"Average frames per video: {result_df['TotalFrames'].mean():.1f}\")\n",
    "print(f\"Min pixel count range: {result_df['ESV_corrected'].min()} - {result_df['ESV_corrected'].max()}\")\n",
    "print(f\"Max pixel count range: {result_df['EDV_corrected'].min()} - {result_df['EDV_corrected'].max()}\")"
   ]
  },
  {
   "cell_type": "code",
   "execution_count": 15,
   "id": "1ba04df6",
   "metadata": {},
   "outputs": [
    {
     "data": {
      "application/vnd.microsoft.datawrangler.viewer.v0+json": {
       "columns": [
        {
         "name": "index",
         "rawType": "int64",
         "type": "integer"
        },
        {
         "name": "Key",
         "rawType": "object",
         "type": "string"
        },
        {
         "name": "ESV_pixel",
         "rawType": "int64",
         "type": "integer"
        },
        {
         "name": "EDV_pixel",
         "rawType": "int64",
         "type": "integer"
        },
        {
         "name": "EF_pixel",
         "rawType": "float64",
         "type": "float"
        },
        {
         "name": "ESV_gt",
         "rawType": "float64",
         "type": "float"
        },
        {
         "name": "EDV_gt",
         "rawType": "float64",
         "type": "float"
        },
        {
         "name": "EF_gt",
         "rawType": "float64",
         "type": "float"
        },
        {
         "name": "EF_error",
         "rawType": "float64",
         "type": "float"
        }
       ],
       "ref": "e9f785c1-e561-45ff-ad1d-961dd7cee49b",
       "rows": [
        [
         "0",
         "0X100009310A3BD7FC",
         "543",
         "1348",
         "59.71810089020772",
         "14.88136797",
         "69.21053366",
         "78.49840597",
         "-18.78030507979228"
        ],
        [
         "1",
         "0X1002E8FBACD08477",
         "680",
         "1225",
         "44.48979591836735",
         "40.38387624",
         "98.74288352",
         "59.10198811",
         "-14.612192191632651"
        ],
        [
         "2",
         "0X1005D03EED19C65B",
         "472",
         "842",
         "43.94299287410927",
         "14.2677839",
         "37.90973395",
         "62.36379841",
         "-18.420805535890736"
        ],
        [
         "3",
         "0X10075961BC11C88E",
         "705",
         "1109",
         "36.42921550946799",
         "33.14308352",
         "72.91420979",
         "54.54509675",
         "-18.11588124053201"
        ],
        [
         "4",
         "0X10094BA0A028EAC3",
         "1677",
         "2070",
         "18.98550724637681",
         "127.5819446",
         "169.8550242",
         "24.88774165",
         "-5.902234403623186"
        ]
       ],
       "shape": {
        "columns": 8,
        "rows": 5
       }
      },
      "text/html": [
       "<div>\n",
       "<style scoped>\n",
       "    .dataframe tbody tr th:only-of-type {\n",
       "        vertical-align: middle;\n",
       "    }\n",
       "\n",
       "    .dataframe tbody tr th {\n",
       "        vertical-align: top;\n",
       "    }\n",
       "\n",
       "    .dataframe thead th {\n",
       "        text-align: right;\n",
       "    }\n",
       "</style>\n",
       "<table border=\"1\" class=\"dataframe\">\n",
       "  <thead>\n",
       "    <tr style=\"text-align: right;\">\n",
       "      <th></th>\n",
       "      <th>Key</th>\n",
       "      <th>ESV_pixel</th>\n",
       "      <th>EDV_pixel</th>\n",
       "      <th>EF_pixel</th>\n",
       "      <th>ESV_gt</th>\n",
       "      <th>EDV_gt</th>\n",
       "      <th>EF_gt</th>\n",
       "      <th>EF_error</th>\n",
       "    </tr>\n",
       "  </thead>\n",
       "  <tbody>\n",
       "    <tr>\n",
       "      <th>0</th>\n",
       "      <td>0X100009310A3BD7FC</td>\n",
       "      <td>543</td>\n",
       "      <td>1348</td>\n",
       "      <td>59.718101</td>\n",
       "      <td>14.881368</td>\n",
       "      <td>69.210534</td>\n",
       "      <td>78.498406</td>\n",
       "      <td>-18.780305</td>\n",
       "    </tr>\n",
       "    <tr>\n",
       "      <th>1</th>\n",
       "      <td>0X1002E8FBACD08477</td>\n",
       "      <td>680</td>\n",
       "      <td>1225</td>\n",
       "      <td>44.489796</td>\n",
       "      <td>40.383876</td>\n",
       "      <td>98.742884</td>\n",
       "      <td>59.101988</td>\n",
       "      <td>-14.612192</td>\n",
       "    </tr>\n",
       "    <tr>\n",
       "      <th>2</th>\n",
       "      <td>0X1005D03EED19C65B</td>\n",
       "      <td>472</td>\n",
       "      <td>842</td>\n",
       "      <td>43.942993</td>\n",
       "      <td>14.267784</td>\n",
       "      <td>37.909734</td>\n",
       "      <td>62.363798</td>\n",
       "      <td>-18.420806</td>\n",
       "    </tr>\n",
       "    <tr>\n",
       "      <th>3</th>\n",
       "      <td>0X10075961BC11C88E</td>\n",
       "      <td>705</td>\n",
       "      <td>1109</td>\n",
       "      <td>36.429216</td>\n",
       "      <td>33.143084</td>\n",
       "      <td>72.914210</td>\n",
       "      <td>54.545097</td>\n",
       "      <td>-18.115881</td>\n",
       "    </tr>\n",
       "    <tr>\n",
       "      <th>4</th>\n",
       "      <td>0X10094BA0A028EAC3</td>\n",
       "      <td>1677</td>\n",
       "      <td>2070</td>\n",
       "      <td>18.985507</td>\n",
       "      <td>127.581945</td>\n",
       "      <td>169.855024</td>\n",
       "      <td>24.887742</td>\n",
       "      <td>-5.902234</td>\n",
       "    </tr>\n",
       "  </tbody>\n",
       "</table>\n",
       "</div>"
      ],
      "text/plain": [
       "                  Key  ESV_pixel  EDV_pixel   EF_pixel      ESV_gt  \\\n",
       "0  0X100009310A3BD7FC        543       1348  59.718101   14.881368   \n",
       "1  0X1002E8FBACD08477        680       1225  44.489796   40.383876   \n",
       "2  0X1005D03EED19C65B        472        842  43.942993   14.267784   \n",
       "3  0X10075961BC11C88E        705       1109  36.429216   33.143084   \n",
       "4  0X10094BA0A028EAC3       1677       2070  18.985507  127.581945   \n",
       "\n",
       "       EDV_gt      EF_gt   EF_error  \n",
       "0   69.210534  78.498406 -18.780305  \n",
       "1   98.742884  59.101988 -14.612192  \n",
       "2   37.909734  62.363798 -18.420806  \n",
       "3   72.914210  54.545097 -18.115881  \n",
       "4  169.855024  24.887742  -5.902234  "
      ]
     },
     "execution_count": 15,
     "metadata": {},
     "output_type": "execute_result"
    }
   ],
   "source": [
    "''' add the other df so we can compare\n",
    "this csv has the original volume tracings value vs the pixel-derived values from creating the mask\n",
    "note that the mask pixel values were **NOT** corrected using AI'''\n",
    "df_non_corrected = pd.read_csv(\"pixel_vs_gt_values.csv\") \n",
    "df_non_corrected.head()"
   ]
  },
  {
   "cell_type": "code",
   "execution_count": 16,
   "id": "0c1b74ba",
   "metadata": {},
   "outputs": [
    {
     "data": {
      "text/plain": [
       "Index(['Key', 'ESV_pixel', 'EDV_pixel', 'ESV_gt', 'EDV_gt', 'EF_gt',\n",
       "       'EF_pixel', 'EF_error', 'ESV_corrected', 'EDV_corrected',\n",
       "       'ESC_corrected_frame', 'EDV_corrected_frame', 'EF_corrected',\n",
       "       'EF_error_corrected'],\n",
       "      dtype='object')"
      ]
     },
     "execution_count": 16,
     "metadata": {},
     "output_type": "execute_result"
    }
   ],
   "source": [
    "import pandas as pd\n",
    "complete_df = pd.read_csv(\"enhanced_pixel_vs_gt_with_corrected.csv\")\n",
    "complete_df.columns\n"
   ]
  },
  {
   "cell_type": "code",
   "execution_count": 17,
   "id": "ada29682",
   "metadata": {},
   "outputs": [
    {
     "data": {
      "application/vnd.microsoft.datawrangler.viewer.v0+json": {
       "columns": [
        {
         "name": "index",
         "rawType": "int64",
         "type": "integer"
        },
        {
         "name": "Key",
         "rawType": "object",
         "type": "string"
        },
        {
         "name": "EF_gt",
         "rawType": "float64",
         "type": "float"
        },
        {
         "name": "EF_pixel",
         "rawType": "float64",
         "type": "float"
        },
        {
         "name": "EF_corrected",
         "rawType": "float64",
         "type": "float"
        }
       ],
       "ref": "df4a5020-3fe6-4a7f-bfab-e7dbc773d4c5",
       "rows": [
        [
         "0",
         "0X100009310A3BD7FC",
         "78.49840597",
         "59.71810089020772",
         "51.03211009174312"
        ],
        [
         "1",
         "0X1002E8FBACD08477",
         "59.10198811",
         "44.48979591836735",
         "39.73634651600753"
        ],
        [
         "2",
         "0X1005D03EED19C65B",
         "62.36379841",
         "43.94299287410927",
         "37.56432246998285"
        ],
        [
         "3",
         "0X10075961BC11C88E",
         "54.54509675",
         "36.42921550946799",
         "31.003460207612456"
        ],
        [
         "4",
         "0X10094BA0A028EAC3",
         "24.88774165",
         "18.98550724637681",
         "17.382657120127288"
        ]
       ],
       "shape": {
        "columns": 4,
        "rows": 5
       }
      },
      "text/html": [
       "<div>\n",
       "<style scoped>\n",
       "    .dataframe tbody tr th:only-of-type {\n",
       "        vertical-align: middle;\n",
       "    }\n",
       "\n",
       "    .dataframe tbody tr th {\n",
       "        vertical-align: top;\n",
       "    }\n",
       "\n",
       "    .dataframe thead th {\n",
       "        text-align: right;\n",
       "    }\n",
       "</style>\n",
       "<table border=\"1\" class=\"dataframe\">\n",
       "  <thead>\n",
       "    <tr style=\"text-align: right;\">\n",
       "      <th></th>\n",
       "      <th>Key</th>\n",
       "      <th>EF_gt</th>\n",
       "      <th>EF_pixel</th>\n",
       "      <th>EF_corrected</th>\n",
       "    </tr>\n",
       "  </thead>\n",
       "  <tbody>\n",
       "    <tr>\n",
       "      <th>0</th>\n",
       "      <td>0X100009310A3BD7FC</td>\n",
       "      <td>78.498406</td>\n",
       "      <td>59.718101</td>\n",
       "      <td>51.032110</td>\n",
       "    </tr>\n",
       "    <tr>\n",
       "      <th>1</th>\n",
       "      <td>0X1002E8FBACD08477</td>\n",
       "      <td>59.101988</td>\n",
       "      <td>44.489796</td>\n",
       "      <td>39.736347</td>\n",
       "    </tr>\n",
       "    <tr>\n",
       "      <th>2</th>\n",
       "      <td>0X1005D03EED19C65B</td>\n",
       "      <td>62.363798</td>\n",
       "      <td>43.942993</td>\n",
       "      <td>37.564322</td>\n",
       "    </tr>\n",
       "    <tr>\n",
       "      <th>3</th>\n",
       "      <td>0X10075961BC11C88E</td>\n",
       "      <td>54.545097</td>\n",
       "      <td>36.429216</td>\n",
       "      <td>31.003460</td>\n",
       "    </tr>\n",
       "    <tr>\n",
       "      <th>4</th>\n",
       "      <td>0X10094BA0A028EAC3</td>\n",
       "      <td>24.887742</td>\n",
       "      <td>18.985507</td>\n",
       "      <td>17.382657</td>\n",
       "    </tr>\n",
       "  </tbody>\n",
       "</table>\n",
       "</div>"
      ],
      "text/plain": [
       "                  Key      EF_gt   EF_pixel  EF_corrected\n",
       "0  0X100009310A3BD7FC  78.498406  59.718101     51.032110\n",
       "1  0X1002E8FBACD08477  59.101988  44.489796     39.736347\n",
       "2  0X1005D03EED19C65B  62.363798  43.942993     37.564322\n",
       "3  0X10075961BC11C88E  54.545097  36.429216     31.003460\n",
       "4  0X10094BA0A028EAC3  24.887742  18.985507     17.382657"
      ]
     },
     "execution_count": 17,
     "metadata": {},
     "output_type": "execute_result"
    }
   ],
   "source": [
    "'''just compare relevant columns'''\n",
    "select_df = complete_df[[\"Key\", 'EF_gt', 'EF_pixel','EF_corrected']]\n",
    "\n",
    "select_df.head()"
   ]
  },
  {
   "cell_type": "code",
   "execution_count": 18,
   "id": "70a9f5a1",
   "metadata": {},
   "outputs": [
    {
     "data": {
      "image/png": "[encoded data removed]",
      "text/plain": [
       "<Figure size 1200x400 with 3 Axes>"
      ]
     },
     "metadata": {},
     "output_type": "display_data"
    },
    {
     "name": "stdout",
     "output_type": "stream",
     "text": [
      "Using mean abs error (MAE) to calculate the average prediction. I.e if MAE = 10, then on avg predictions are off 10 points from GT vals\n",
      "Non-corrected/Original Mask MAE: 17.2%\n",
      "Corrected Mask MAE: 22.2%\n"
     ]
    }
   ],
   "source": [
    "'''compare the EF_pixel and EF_corrected against the EF_gt\n",
    "just visually inspecting the dataframe shows that despite the AI using correction to increase the ESV and EDV pixel count for the masks\n",
    "it only resulted in a lower EF compared to the non-corrected\n",
    "and this tracks because EF is calculated with the proportion of the EDV and ESV, so '''\n",
    "\n",
    "import matplotlib.pyplot as plt\n",
    "import numpy as np\n",
    "\n",
    "\n",
    "plt.figure(figsize=(12, 4))\n",
    "\n",
    "# plot the original (non corr masks pixel value for EF vs the ground truth % value for EF from Volume tracings\n",
    "plt.subplot(1, 3, 1)\n",
    "plt.scatter(select_df['EF_gt'], select_df['EF_pixel'], alpha=0.6, color='red', s=30)\n",
    "plt.plot([0, 80], [0, 80], 'k--', alpha=0.75)\n",
    "plt.xlabel('Ground Truth EF (%)') #derived from volumetracings and filelist.csv from EchoNet\n",
    "plt.ylabel('Original EF (%)') #derived by calc. ef using simpsons method from mask values\n",
    "plt.title('Original vs GT')\n",
    "plt.grid(True, alpha=0.3)\n",
    "\n",
    "# plot of the corrected mask values for EF vs the ground truth values\n",
    "plt.subplot(1, 3, 2)\n",
    "plt.scatter(select_df['EF_gt'], select_df['EF_corrected'], alpha=0.6, color='blue', s=30)\n",
    "plt.plot([0, 80], [0, 80], 'k--', alpha=0.75)\n",
    "plt.xlabel('Ground Truth EF (%)') #ground truth vals\n",
    "plt.ylabel('Corrected EF (%)') #calculated from the corrected values using simpsons method\n",
    "plt.title('Corrected vs GT')\n",
    "plt.grid(True, alpha=0.3)\n",
    "\n",
    "# plot both together just to see the difference\n",
    "plt.subplot(1, 3, 3)\n",
    "plt.scatter(select_df['EF_gt'], select_df['EF_pixel'], alpha=0.5, color='red', s=20, label='Original')\n",
    "plt.scatter(select_df['EF_gt'], select_df['EF_corrected'], alpha=0.5, color='blue', s=20, label='Corrected')\n",
    "plt.plot([0, 80], [0, 80], 'k--', alpha=0.75, label='Perfect Match')\n",
    "plt.xlabel('Ground Truth EF (%)')\n",
    "plt.ylabel('Predicted EF (%)')\n",
    "plt.title('Original vs Corrected')\n",
    "plt.legend()\n",
    "plt.grid(True, alpha=0.3)\n",
    "\n",
    "plt.tight_layout()\n",
    "plt.show()\n",
    "\n",
    "\n",
    "print(\"Using mean abs error (MAE) to calculate the average prediction. I.e if MAE = 10, then on avg predictions are off 10 points from GT vals\")\n",
    "print(f\"Non-corrected/Original Mask MAE: {abs(select_df['EF_pixel'] - select_df['EF_gt']).mean():.1f}%\")\n",
    "print(f\"Corrected Mask MAE: {abs(select_df['EF_corrected'] - select_df['EF_gt']).mean():.1f}%\")\n"
   ]
  }
 ],
 "metadata": {
  "kernelspec": {
   "display_name": "Python 3",
   "language": "python",
   "name": "python3"
  },
  "language_info": {
   "codemirror_mode": {
    "name": "ipython",
    "version": 3
   },
   "file_extension": ".py",
   "mimetype": "text/x-python",
   "name": "python",
   "nbconvert_exporter": "python",
   "pygments_lexer": "ipython3",
   "version": "3.13.7"
  }
 },
 "nbformat": 4,
 "nbformat_minor": 5
}
